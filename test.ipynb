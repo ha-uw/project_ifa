{
 "cells": [
  {
   "cell_type": "code",
   "execution_count": 11,
   "metadata": {},
   "outputs": [],
   "source": [
    "import pandas as pd\n",
    "from src.data.loading import TDCDataset\n",
    "from src.data.processing import split_sequences\n"
   ]
  },
  {
   "cell_type": "code",
   "execution_count": 12,
   "metadata": {},
   "outputs": [
    {
     "name": "stderr",
     "output_type": "stream",
     "text": [
      "Found local copy...\n",
      "Loading...\n",
      "Done!\n"
     ]
    },
    {
     "name": "stdout",
     "output_type": "stream",
     "text": [
      "Motif file loaded successfully.\n",
      "Motif file up to date.\n"
     ]
    }
   ],
   "source": [
    "data = TDCDataset(\"DAVIS\", mode=\"widedta\", label_to_log=False)"
   ]
  },
  {
   "cell_type": "code",
   "execution_count": 13,
   "metadata": {},
   "outputs": [
    {
     "data": {
      "text/html": [
       "<div>\n",
       "<style scoped>\n",
       "    .dataframe tbody tr th:only-of-type {\n",
       "        vertical-align: middle;\n",
       "    }\n",
       "\n",
       "    .dataframe tbody tr th {\n",
       "        vertical-align: top;\n",
       "    }\n",
       "\n",
       "    .dataframe thead th {\n",
       "        text-align: right;\n",
       "    }\n",
       "</style>\n",
       "<table border=\"1\" class=\"dataframe\">\n",
       "  <thead>\n",
       "    <tr style=\"text-align: right;\">\n",
       "      <th></th>\n",
       "      <th>Drug_ID</th>\n",
       "      <th>Drug</th>\n",
       "      <th>Target_ID</th>\n",
       "      <th>Target</th>\n",
       "      <th>Y</th>\n",
       "      <th>Motif</th>\n",
       "    </tr>\n",
       "  </thead>\n",
       "  <tbody>\n",
       "    <tr>\n",
       "      <th>0</th>\n",
       "      <td>11314340</td>\n",
       "      <td>Cc1[nH]nc2ccc(-c3cncc(OCC(N)Cc4ccccc4)c3)cc12</td>\n",
       "      <td>AAK1</td>\n",
       "      <td>MKKFFDSRREQGGSGLGSGSSGGGGSTSGLGSGYIGRVFGIGRQQV...</td>\n",
       "      <td>43.0</td>\n",
       "      <td>IIHRDLKVENILL</td>\n",
       "    </tr>\n",
       "    <tr>\n",
       "      <th>1</th>\n",
       "      <td>11314340</td>\n",
       "      <td>Cc1[nH]nc2ccc(-c3cncc(OCC(N)Cc4ccccc4)c3)cc12</td>\n",
       "      <td>ABL1p</td>\n",
       "      <td>PFWKILNPLLERGTYYYFMGQQPGKVLGDQRRPSLPALHFIKGAGK...</td>\n",
       "      <td>10000.0</td>\n",
       "      <td>FIHRDLAARNCLV</td>\n",
       "    </tr>\n",
       "    <tr>\n",
       "      <th>2</th>\n",
       "      <td>11314340</td>\n",
       "      <td>Cc1[nH]nc2ccc(-c3cncc(OCC(N)Cc4ccccc4)c3)cc12</td>\n",
       "      <td>ABL2</td>\n",
       "      <td>MVLGTVLLPPNSYGRDQDTSLCCLCTEASESALPDLTDHFASCVED...</td>\n",
       "      <td>10000.0</td>\n",
       "      <td>FIHRDLAARNCLV</td>\n",
       "    </tr>\n",
       "    <tr>\n",
       "      <th>3</th>\n",
       "      <td>11314340</td>\n",
       "      <td>Cc1[nH]nc2ccc(-c3cncc(OCC(N)Cc4ccccc4)c3)cc12</td>\n",
       "      <td>ACVR1</td>\n",
       "      <td>MVDGVMILPVLIMIALPSPSMEDEKPKVNPKLYMCVCEGLSCGNED...</td>\n",
       "      <td>10000.0</td>\n",
       "      <td>IAHRDLKSKNILV</td>\n",
       "    </tr>\n",
       "    <tr>\n",
       "      <th>4</th>\n",
       "      <td>11314340</td>\n",
       "      <td>Cc1[nH]nc2ccc(-c3cncc(OCC(N)Cc4ccccc4)c3)cc12</td>\n",
       "      <td>ACVR2A</td>\n",
       "      <td>MGAAAKLAFAVFLISCSSGAILGRSETQECLFFNANWEKDRTNQTG...</td>\n",
       "      <td>10000.0</td>\n",
       "      <td>ISHRDIKSKNVLL</td>\n",
       "    </tr>\n",
       "    <tr>\n",
       "      <th>...</th>\n",
       "      <td>...</td>\n",
       "      <td>...</td>\n",
       "      <td>...</td>\n",
       "      <td>...</td>\n",
       "      <td>...</td>\n",
       "      <td>...</td>\n",
       "    </tr>\n",
       "    <tr>\n",
       "      <th>374</th>\n",
       "      <td>11338033</td>\n",
       "      <td>O=C(NC1CCNCC1)c1[nH]ncc1NC(=O)c1c(Cl)cccc1Cl</td>\n",
       "      <td>PKAC-beta</td>\n",
       "      <td>MGNAATAKKGSEVESVKEFLAKAKEDFLKKWENPTQNNAGLEDFER...</td>\n",
       "      <td>10000.0</td>\n",
       "      <td>LIYRDLKPENLLI</td>\n",
       "    </tr>\n",
       "    <tr>\n",
       "      <th>375</th>\n",
       "      <td>11338033</td>\n",
       "      <td>O=C(NC1CCNCC1)c1[nH]ncc1NC(=O)c1c(Cl)cccc1Cl</td>\n",
       "      <td>TAOK3</td>\n",
       "      <td>MRKGVLKDPEIADLFYKDDPEELFIGLHEIGHGSFGAVYFATNAHT...</td>\n",
       "      <td>57.0</td>\n",
       "      <td>LIHRDIKAGNILL</td>\n",
       "    </tr>\n",
       "    <tr>\n",
       "      <th>376</th>\n",
       "      <td>11338033</td>\n",
       "      <td>O=C(NC1CCNCC1)c1[nH]ncc1NC(=O)c1c(Cl)cccc1Cl</td>\n",
       "      <td>TYRO3</td>\n",
       "      <td>MALRRSMGRPGLPPLPLPPPPRLGLLLAALASLLLPESAAAGLKLM...</td>\n",
       "      <td>10000.0</td>\n",
       "      <td>LGKGEFGSVREAQLKQEDGSFVKVAVK</td>\n",
       "    </tr>\n",
       "    <tr>\n",
       "      <th>377</th>\n",
       "      <td>5287969</td>\n",
       "      <td>CN1CCC(c2c(O)cc(O)c3c(=O)cc(-c4ccccc4Cl)oc23)C...</td>\n",
       "      <td>MET(Y1235D)</td>\n",
       "      <td>MKAPAVLAPGILVLLFTLVQRSNGECKEALAKSEMNVNMKYQLPNF...</td>\n",
       "      <td>10000.0</td>\n",
       "      <td>FVHRDLAARNCML</td>\n",
       "    </tr>\n",
       "    <tr>\n",
       "      <th>378</th>\n",
       "      <td>5287969</td>\n",
       "      <td>CN1CCC(c2c(O)cc(O)c3c(=O)cc(-c4ccccc4Cl)oc23)C...</td>\n",
       "      <td>YANK3</td>\n",
       "      <td>MRSGAERRGSSAAASPGSPPPGRARPAGSDAPSALPPPAAGQPRAR...</td>\n",
       "      <td>10000.0</td>\n",
       "      <td>IIHRDVKPDNILL</td>\n",
       "    </tr>\n",
       "  </tbody>\n",
       "</table>\n",
       "<p>379 rows × 6 columns</p>\n",
       "</div>"
      ],
      "text/plain": [
       "      Drug_ID                                               Drug    Target_ID  \\\n",
       "0    11314340      Cc1[nH]nc2ccc(-c3cncc(OCC(N)Cc4ccccc4)c3)cc12         AAK1   \n",
       "1    11314340      Cc1[nH]nc2ccc(-c3cncc(OCC(N)Cc4ccccc4)c3)cc12        ABL1p   \n",
       "2    11314340      Cc1[nH]nc2ccc(-c3cncc(OCC(N)Cc4ccccc4)c3)cc12         ABL2   \n",
       "3    11314340      Cc1[nH]nc2ccc(-c3cncc(OCC(N)Cc4ccccc4)c3)cc12        ACVR1   \n",
       "4    11314340      Cc1[nH]nc2ccc(-c3cncc(OCC(N)Cc4ccccc4)c3)cc12       ACVR2A   \n",
       "..        ...                                                ...          ...   \n",
       "374  11338033       O=C(NC1CCNCC1)c1[nH]ncc1NC(=O)c1c(Cl)cccc1Cl    PKAC-beta   \n",
       "375  11338033       O=C(NC1CCNCC1)c1[nH]ncc1NC(=O)c1c(Cl)cccc1Cl        TAOK3   \n",
       "376  11338033       O=C(NC1CCNCC1)c1[nH]ncc1NC(=O)c1c(Cl)cccc1Cl        TYRO3   \n",
       "377   5287969  CN1CCC(c2c(O)cc(O)c3c(=O)cc(-c4ccccc4Cl)oc23)C...  MET(Y1235D)   \n",
       "378   5287969  CN1CCC(c2c(O)cc(O)c3c(=O)cc(-c4ccccc4Cl)oc23)C...        YANK3   \n",
       "\n",
       "                                                Target        Y  \\\n",
       "0    MKKFFDSRREQGGSGLGSGSSGGGGSTSGLGSGYIGRVFGIGRQQV...     43.0   \n",
       "1    PFWKILNPLLERGTYYYFMGQQPGKVLGDQRRPSLPALHFIKGAGK...  10000.0   \n",
       "2    MVLGTVLLPPNSYGRDQDTSLCCLCTEASESALPDLTDHFASCVED...  10000.0   \n",
       "3    MVDGVMILPVLIMIALPSPSMEDEKPKVNPKLYMCVCEGLSCGNED...  10000.0   \n",
       "4    MGAAAKLAFAVFLISCSSGAILGRSETQECLFFNANWEKDRTNQTG...  10000.0   \n",
       "..                                                 ...      ...   \n",
       "374  MGNAATAKKGSEVESVKEFLAKAKEDFLKKWENPTQNNAGLEDFER...  10000.0   \n",
       "375  MRKGVLKDPEIADLFYKDDPEELFIGLHEIGHGSFGAVYFATNAHT...     57.0   \n",
       "376  MALRRSMGRPGLPPLPLPPPPRLGLLLAALASLLLPESAAAGLKLM...  10000.0   \n",
       "377  MKAPAVLAPGILVLLFTLVQRSNGECKEALAKSEMNVNMKYQLPNF...  10000.0   \n",
       "378  MRSGAERRGSSAAASPGSPPPGRARPAGSDAPSALPPPAAGQPRAR...  10000.0   \n",
       "\n",
       "                           Motif  \n",
       "0                  IIHRDLKVENILL  \n",
       "1                  FIHRDLAARNCLV  \n",
       "2                  FIHRDLAARNCLV  \n",
       "3                  IAHRDLKSKNILV  \n",
       "4                  ISHRDIKSKNVLL  \n",
       "..                           ...  \n",
       "374                LIYRDLKPENLLI  \n",
       "375                LIHRDIKAGNILL  \n",
       "376  LGKGEFGSVREAQLKQEDGSFVKVAVK  \n",
       "377                FVHRDLAARNCML  \n",
       "378                IIHRDVKPDNILL  \n",
       "\n",
       "[379 rows x 6 columns]"
      ]
     },
     "execution_count": 13,
     "metadata": {},
     "output_type": "execute_result"
    }
   ],
   "source": [
    "data = data.data\n",
    "\n",
    "data"
   ]
  },
  {
   "cell_type": "code",
   "execution_count": 14,
   "metadata": {},
   "outputs": [
    {
     "data": {
      "text/plain": [
       "'Cc1[nH]nc2ccc(-c3cncc(OCC(N)Cc4ccccc4)c3)cc12'"
      ]
     },
     "execution_count": 14,
     "metadata": {},
     "output_type": "execute_result"
    }
   ],
   "source": [
    "sml = data[\"Drug\"][1]\n",
    "\n",
    "sml"
   ]
  },
  {
   "cell_type": "code",
   "execution_count": 15,
   "metadata": {},
   "outputs": [
    {
     "data": {
      "text/plain": [
       "'Cc1[nH]nc2ccc(-c3cncc(OCC(N)Cc4ccccc4)c3)cc12'"
      ]
     },
     "execution_count": 15,
     "metadata": {},
     "output_type": "execute_result"
    }
   ],
   "source": [
    "split_sequences(sm"
   ]
  },
  {
   "cell_type": "code",
   "execution_count": null,
   "metadata": {},
   "outputs": [],
   "source": []
  },
  {
   "cell_type": "code",
   "execution_count": null,
   "metadata": {},
   "outputs": [],
   "source": []
  },
  {
   "cell_type": "code",
   "execution_count": null,
   "metadata": {},
   "outputs": [],
   "source": []
  }
 ],
 "metadata": {
  "kernelspec": {
   "display_name": "project_ifa",
   "language": "python",
   "name": "python3"
  },
  "language_info": {
   "codemirror_mode": {
    "name": "ipython",
    "version": 3
   },
   "file_extension": ".py",
   "mimetype": "text/x-python",
   "name": "python",
   "nbconvert_exporter": "python",
   "pygments_lexer": "ipython3",
   "version": "3.11.9"
  }
 },
 "nbformat": 4,
 "nbformat_minor": 2
}
