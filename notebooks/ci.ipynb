{
  "cells": [
    {
      "cell_type": "code",
      "execution_count": 1,
      "metadata": {},
      "outputs": [],
      "source": [
        "import torch\n",
        "from torch import nn"
      ]
    },
    {
      "cell_type": "code",
      "execution_count": 1,
      "metadata": {},
      "outputs": [],
      "source": [
        "import torch\n",
        "from src.data.evaluation import concordance_index, concordance_index_old, concordance_index_old_2\n",
        "\n",
        "y = torch.tensor([1.0, 2.0, 3.0, 4.0, 5.0])\n",
        "y_pred = torch.tensor([1.1, 2.1, 2.9, 4.2, 4.8])\n",
        "\n",
        "expected_ci = 4.0 / 5.0  # 4 pairs are correctly ordered out of 5"
      ]
    },
    {
      "cell_type": "code",
      "execution_count": null,
      "metadata": {},
      "outputs": [],
      "source": []
    },
    {
      "cell_type": "code",
      "execution_count": 3,
      "metadata": {},
      "outputs": [
        {
          "name": "stdout",
          "output_type": "stream",
          "text": [
            "1.0\n"
          ]
        }
      ],
      "source": [
        "print(concordance_index(y, y_pred))\n",
        "print(concordance_index_old(y, y_pred))"
      ]
    },
    {
      "cell_type": "code",
      "execution_count": 54,
      "metadata": {},
      "outputs": [
        {
          "name": "stdout",
          "output_type": "stream",
          "text": [
            "1.0\n",
            "0\n",
            "0.0\n",
            "0\n",
            "0.800000011920929\n",
            "0\n",
            "0.48848485946655273\n",
            "0\n",
            "0.5553320050239563\n",
            "0\n"
          ]
        }
      ],
      "source": [
        "# Identical predictions and true values\n",
        "y = torch.tensor([1.0, 2.0, 3.0, 4.0, 5.0])\n",
        "y_pred = torch.tensor([1.0, 2.0, 3.0, 4.0, 5.0])\n",
        "print(\"ori: \", concordance_index(y, y_pred))  # Expected output: 1.0\n",
        "print(\"old: \", concordance_index_old(y, y_pred))\n",
        "print(\"old_2: \", concordance_index_old_2(y, y_pred))\n",
        "\n",
        "\n",
        "# Completely discordant predictions and true values\n",
        "y = torch.tensor([1.0, 2.0, 3.0, 4.0, 5.0])\n",
        "y_pred = torch.tensor([5.0, 4.0, 3.0, 2.0, 1.0])\n",
        "print(concordance_index(y, y_pred))  # Expected output: 0.0\n",
        "print(concordance_index_old(y, y_pred))\n",
        "\n",
        "# Random predictions and true values\n",
        "y = torch.tensor([1.0, 2.0, 3.0, 4.0, 5.0])\n",
        "y_pred = torch.rand(5)\n",
        "print(concordance_index(y, y_pred))  # Expected output: varies\n",
        "print(concordance_index_old(y, y_pred))\n",
        "\n",
        "# Test with larger tensors\n",
        "y = torch.rand(100)\n",
        "y_pred = torch.rand(100)\n",
        "print(concordance_index(y, y_pred))  # Expected output: varies\n",
        "print(concordance_index_old(y, y_pred))\n",
        "\n",
        "# Test with different data types\n",
        "y = torch.randint(0, 10, (100,))\n",
        "y_pred = torch.randint(0, 10, (100,))\n",
        "print(concordance_index(y, y_pred))  \n",
        "print(concordance_index_old(y, y_pred))"
      ]
    }
  ],
  "metadata": {
    "kernelspec": {
      "display_name": "project_ifa",
      "language": "python",
      "name": "python3"
    },
    "language_info": {
      "codemirror_mode": {
        "name": "ipython",
        "version": 3
      },
      "file_extension": ".py",
      "mimetype": "text/x-python",
      "name": "python",
      "nbconvert_exporter": "python",
      "pygments_lexer": "ipython3",
      "version": "3.11.9"
    }
  },
  "nbformat": 4,
  "nbformat_minor": 2
}
