{
 "cells": [
  {
   "cell_type": "markdown",
   "metadata": {},
   "source": [
    "Adding Missing Values\n",
    "\n",
    "Identify missing values in your dataset.\n",
    "Decide on a strategy for handling them: imputation, deletion, or prediction.\n",
    "For numerical data, imputation could mean using the mean, median, or mode.\n",
    "For categorical data, imputation could involve using the most frequent category or a placeholder value like 'Unknown'.\n",
    "Implement the chosen strategy to fill in missing values.\n",
    "Standardizing/Normalizing Numerical Values\n",
    "\n",
    "Standardization: Transform your data to have a mean of 0 and a standard deviation of 1.\n",
    "Calculate the mean and standard deviation for each numerical feature.\n",
    "Subtract the mean from each feature.\n",
    "Divide the result by the standard deviation.\n",
    "Normalization: Scale your data to a fixed range, usually 0 to 1.\n",
    "Find the minimum and maximum values for each feature.\n",
    "Subtract the minimum value from each feature.\n",
    "Divide the result by the range (max - min).\n",
    "Choose between standardization and normalization based on your model and data distribution.\n",
    "Tokenizing Words\n",
    "\n",
    "If your data includes textual information, convert the text into tokens (words or characters).\n",
    "Decide on the granularity of tokens (words, characters, or n-grams).\n",
    "Use a tokenizer to split the text into tokens.\n",
    "Optionally, convert tokens into numerical values (e.g., through embeddings or one-hot encoding).\n",
    "Removing Outliers\n",
    "\n",
    "Identify outliers in your data.\n",
    "Use statistical methods (e.g., Z-score, IQR) to detect outliers.\n",
    "Decide whether to remove outliers or cap them.\n",
    "Remove or cap outliers based on the chosen strategy.\n",
    "Removing Duplicates\n",
    "\n",
    "Check for duplicate entries in your dataset.\n",
    "Use a function to identify and remove duplicates.\n",
    "Ensure that the removal of duplicates does not affect the integrity of your data."
   ]
  },
  {
   "cell_type": "code",
   "execution_count": 1,
   "metadata": {},
   "outputs": [],
   "source": [
    "from methods.widedta import _WideDTADataHandler\n",
    "from modules.encoders import WideCNN\n",
    "from tdc.multi_pred import DTI\n",
    "from pathlib import Path\n",
    "from sklearn.model_selection import KFold"
   ]
  },
  {
   "cell_type": "code",
   "execution_count": 2,
   "metadata": {},
   "outputs": [
    {
     "name": "stderr",
     "output_type": "stream",
     "text": [
      "Found local copy...\n",
      "Loading...\n",
      "--- Dataset Statistics ---\n",
      "68 unique drugs.\n",
      "379 unique targets.\n",
      "25772 drug-target pairs.\n",
      "--------------------------\n",
      "Done!\n"
     ]
    },
    {
     "data": {
      "text/plain": [
       "25772"
      ]
     },
     "execution_count": 2,
     "metadata": {},
     "output_type": "execute_result"
    }
   ],
   "source": [
    "ds = \"davis\"\n",
    "\n",
    "ds = ds.lower()\n",
    "df = DTI(ds, path=Path(\"..\", \"data\", ds), print_stats=True).get_data()\n",
    "ori_size = df.shape[0]\n",
    "\n",
    "ori_size"
   ]
  },
  {
   "cell_type": "code",
   "execution_count": 3,
   "metadata": {},
   "outputs": [],
   "source": [
    "kfold = KFold(n_splits=5, shuffle=True)"
   ]
  },
  {
   "cell_type": "code",
   "execution_count": 14,
   "metadata": {},
   "outputs": [
    {
     "name": "stdout",
     "output_type": "stream",
     "text": [
      "[    0     1     2 ... 25769 25770 25771] [   10    13    16 ... 25763 25766 25767]\n",
      "[    2     4     6 ... 25769 25770 25771] [    0     1     3 ... 25741 25758 25759]\n",
      "[    0     1     2 ... 25769 25770 25771] [   26    28    62 ... 25754 25756 25768]\n",
      "[    0     1     2 ... 25767 25768 25771] [    6    17    32 ... 25765 25769 25770]\n",
      "[    0     1     3 ... 25768 25769 25770] [    2     4     8 ... 25757 25760 25771]\n"
     ]
    }
   ],
   "source": [
    "for train_idx, val_idx in kfold.split(df):\n",
    "    print(train_idx, val_idx)"
   ]
  },
  {
   "cell_type": "code",
   "execution_count": 83,
   "metadata": {},
   "outputs": [
    {
     "data": {
      "text/plain": [
       "25772"
      ]
     },
     "execution_count": 83,
     "metadata": {},
     "output_type": "execute_result"
    }
   ],
   "source": [
    "df = df.drop_duplicates(subset=['Drug_ID', 'Target_ID'])\n",
    "\n",
    "ori_size = df.shape[0]\n",
    "\n",
    "ori_size"
   ]
  },
  {
   "cell_type": "code",
   "execution_count": 84,
   "metadata": {},
   "outputs": [
    {
     "name": "stdout",
     "output_type": "stream",
     "text": [
      "NaN dropped: 0\n"
     ]
    }
   ],
   "source": [
    "df = df.dropna()\n",
    "\n",
    "print(\"NaN dropped:\", df.shape[0] - ori_size)"
   ]
  },
  {
   "cell_type": "code",
   "execution_count": 85,
   "metadata": {},
   "outputs": [
    {
     "name": "stdout",
     "output_type": "stream",
     "text": [
      "Min interactions:  379\n",
      "Max interactions:  379\n"
     ]
    }
   ],
   "source": [
    "df.groupby('Drug_ID')['Target_ID'].nunique()\n",
    "\n",
    "drug_target_counts = df.groupby('Drug_ID')['Target_ID'].nunique().reset_index(name='Target_Count')\n",
    "\n",
    "print(\"Min interactions: \", drug_target_counts[\"Target_Count\"].min())\n",
    "print(\"Max interactions: \", drug_target_counts[\"Target_Count\"].max())\n"
   ]
  },
  {
   "cell_type": "code",
   "execution_count": 86,
   "metadata": {},
   "outputs": [
    {
     "data": {
      "text/html": [
       "<div>\n",
       "<style scoped>\n",
       "    .dataframe tbody tr th:only-of-type {\n",
       "        vertical-align: middle;\n",
       "    }\n",
       "\n",
       "    .dataframe tbody tr th {\n",
       "        vertical-align: top;\n",
       "    }\n",
       "\n",
       "    .dataframe thead th {\n",
       "        text-align: right;\n",
       "    }\n",
       "</style>\n",
       "<table border=\"1\" class=\"dataframe\">\n",
       "  <thead>\n",
       "    <tr style=\"text-align: right;\">\n",
       "      <th></th>\n",
       "      <th>Drug_ID</th>\n",
       "      <th>Target_Count</th>\n",
       "    </tr>\n",
       "  </thead>\n",
       "  <tbody>\n",
       "  </tbody>\n",
       "</table>\n",
       "</div>"
      ],
      "text/plain": [
       "Empty DataFrame\n",
       "Columns: [Drug_ID, Target_Count]\n",
       "Index: []"
      ]
     },
     "execution_count": 86,
     "metadata": {},
     "output_type": "execute_result"
    }
   ],
   "source": [
    "drug_target_counts[drug_target_counts['Target_Count'] < 10]"
   ]
  },
  {
   "cell_type": "code",
   "execution_count": 87,
   "metadata": {},
   "outputs": [
    {
     "data": {
      "text/plain": [
       "25772"
      ]
     },
     "execution_count": 87,
     "metadata": {},
     "output_type": "execute_result"
    }
   ],
   "source": [
    "drug_ids_to_remove = drug_target_counts[drug_target_counts['Target_Count'] < 10]['Drug_ID']\n",
    "\n",
    "df = df[~df['Drug_ID'].isin(drug_ids_to_remove)]\n",
    "\n",
    "df.shape[0]"
   ]
  },
  {
   "cell_type": "code",
   "execution_count": 88,
   "metadata": {},
   "outputs": [
    {
     "data": {
      "text/html": [
       "<div>\n",
       "<style scoped>\n",
       "    .dataframe tbody tr th:only-of-type {\n",
       "        vertical-align: middle;\n",
       "    }\n",
       "\n",
       "    .dataframe tbody tr th {\n",
       "        vertical-align: top;\n",
       "    }\n",
       "\n",
       "    .dataframe thead th {\n",
       "        text-align: right;\n",
       "    }\n",
       "</style>\n",
       "<table border=\"1\" class=\"dataframe\">\n",
       "  <thead>\n",
       "    <tr style=\"text-align: right;\">\n",
       "      <th></th>\n",
       "      <th>Drug_ID</th>\n",
       "      <th>Drug</th>\n",
       "      <th>Target_ID</th>\n",
       "      <th>Target</th>\n",
       "      <th>Y</th>\n",
       "    </tr>\n",
       "  </thead>\n",
       "  <tbody>\n",
       "    <tr>\n",
       "      <th>0</th>\n",
       "      <td>11314340</td>\n",
       "      <td>Cc1[nH]nc2ccc(-c3cncc(OCC(N)Cc4ccccc4)c3)cc12</td>\n",
       "      <td>AAK1</td>\n",
       "      <td>MKKFFDSRREQGGSGLGSGSSGGGGSTSGLGSGYIGRVFGIGRQQV...</td>\n",
       "      <td>43.0</td>\n",
       "    </tr>\n",
       "    <tr>\n",
       "      <th>1</th>\n",
       "      <td>11314340</td>\n",
       "      <td>Cc1[nH]nc2ccc(-c3cncc(OCC(N)Cc4ccccc4)c3)cc12</td>\n",
       "      <td>ABL1p</td>\n",
       "      <td>PFWKILNPLLERGTYYYFMGQQPGKVLGDQRRPSLPALHFIKGAGK...</td>\n",
       "      <td>10000.0</td>\n",
       "    </tr>\n",
       "    <tr>\n",
       "      <th>2</th>\n",
       "      <td>11314340</td>\n",
       "      <td>Cc1[nH]nc2ccc(-c3cncc(OCC(N)Cc4ccccc4)c3)cc12</td>\n",
       "      <td>ABL2</td>\n",
       "      <td>MVLGTVLLPPNSYGRDQDTSLCCLCTEASESALPDLTDHFASCVED...</td>\n",
       "      <td>10000.0</td>\n",
       "    </tr>\n",
       "    <tr>\n",
       "      <th>3</th>\n",
       "      <td>11314340</td>\n",
       "      <td>Cc1[nH]nc2ccc(-c3cncc(OCC(N)Cc4ccccc4)c3)cc12</td>\n",
       "      <td>ACVR1</td>\n",
       "      <td>MVDGVMILPVLIMIALPSPSMEDEKPKVNPKLYMCVCEGLSCGNED...</td>\n",
       "      <td>10000.0</td>\n",
       "    </tr>\n",
       "    <tr>\n",
       "      <th>4</th>\n",
       "      <td>11314340</td>\n",
       "      <td>Cc1[nH]nc2ccc(-c3cncc(OCC(N)Cc4ccccc4)c3)cc12</td>\n",
       "      <td>ACVR1B</td>\n",
       "      <td>MAESAGASSFFPLVVLLLAGSGGSGPRGVQALLCACTSCLQANYTC...</td>\n",
       "      <td>10000.0</td>\n",
       "    </tr>\n",
       "    <tr>\n",
       "      <th>...</th>\n",
       "      <td>...</td>\n",
       "      <td>...</td>\n",
       "      <td>...</td>\n",
       "      <td>...</td>\n",
       "      <td>...</td>\n",
       "    </tr>\n",
       "    <tr>\n",
       "      <th>25767</th>\n",
       "      <td>151194</td>\n",
       "      <td>Clc1ccc(Nc2nnc(Cc3ccncc3)c3ccccc23)cc1</td>\n",
       "      <td>YES</td>\n",
       "      <td>MGCIKSKENKSPAIKYRPENTPEPVSTSVSHYGAEPTTVSPCPSSS...</td>\n",
       "      <td>10000.0</td>\n",
       "    </tr>\n",
       "    <tr>\n",
       "      <th>25768</th>\n",
       "      <td>151194</td>\n",
       "      <td>Clc1ccc(Nc2nnc(Cc3ccncc3)c3ccccc23)cc1</td>\n",
       "      <td>YSK1</td>\n",
       "      <td>MAHLRGFANQHSRVDPEELFTKLDRIGKGSFGEVYKGIDNHTKEVV...</td>\n",
       "      <td>10000.0</td>\n",
       "    </tr>\n",
       "    <tr>\n",
       "      <th>25769</th>\n",
       "      <td>151194</td>\n",
       "      <td>Clc1ccc(Nc2nnc(Cc3ccncc3)c3ccccc23)cc1</td>\n",
       "      <td>YSK4</td>\n",
       "      <td>MSSMPKPERHAESLLDICHDTNSSPTDLMTVTKNQNIILQSISRSE...</td>\n",
       "      <td>1900.0</td>\n",
       "    </tr>\n",
       "    <tr>\n",
       "      <th>25770</th>\n",
       "      <td>151194</td>\n",
       "      <td>Clc1ccc(Nc2nnc(Cc3ccncc3)c3ccccc23)cc1</td>\n",
       "      <td>ZAK</td>\n",
       "      <td>MSSLGASFVQIKFDDLQFFENCGGGSFGSVYRAKWISQDKEVAVKK...</td>\n",
       "      <td>4400.0</td>\n",
       "    </tr>\n",
       "    <tr>\n",
       "      <th>25771</th>\n",
       "      <td>151194</td>\n",
       "      <td>Clc1ccc(Nc2nnc(Cc3ccncc3)c3ccccc23)cc1</td>\n",
       "      <td>ZAP70</td>\n",
       "      <td>MPDPAAHLPFFYGSISRAEAEEHLKLAGMADGLFLLRQCLRSLGGY...</td>\n",
       "      <td>10000.0</td>\n",
       "    </tr>\n",
       "  </tbody>\n",
       "</table>\n",
       "<p>25772 rows × 5 columns</p>\n",
       "</div>"
      ],
      "text/plain": [
       "        Drug_ID                                           Drug Target_ID  \\\n",
       "0      11314340  Cc1[nH]nc2ccc(-c3cncc(OCC(N)Cc4ccccc4)c3)cc12      AAK1   \n",
       "1      11314340  Cc1[nH]nc2ccc(-c3cncc(OCC(N)Cc4ccccc4)c3)cc12     ABL1p   \n",
       "2      11314340  Cc1[nH]nc2ccc(-c3cncc(OCC(N)Cc4ccccc4)c3)cc12      ABL2   \n",
       "3      11314340  Cc1[nH]nc2ccc(-c3cncc(OCC(N)Cc4ccccc4)c3)cc12     ACVR1   \n",
       "4      11314340  Cc1[nH]nc2ccc(-c3cncc(OCC(N)Cc4ccccc4)c3)cc12    ACVR1B   \n",
       "...         ...                                            ...       ...   \n",
       "25767    151194         Clc1ccc(Nc2nnc(Cc3ccncc3)c3ccccc23)cc1       YES   \n",
       "25768    151194         Clc1ccc(Nc2nnc(Cc3ccncc3)c3ccccc23)cc1      YSK1   \n",
       "25769    151194         Clc1ccc(Nc2nnc(Cc3ccncc3)c3ccccc23)cc1      YSK4   \n",
       "25770    151194         Clc1ccc(Nc2nnc(Cc3ccncc3)c3ccccc23)cc1       ZAK   \n",
       "25771    151194         Clc1ccc(Nc2nnc(Cc3ccncc3)c3ccccc23)cc1     ZAP70   \n",
       "\n",
       "                                                  Target        Y  \n",
       "0      MKKFFDSRREQGGSGLGSGSSGGGGSTSGLGSGYIGRVFGIGRQQV...     43.0  \n",
       "1      PFWKILNPLLERGTYYYFMGQQPGKVLGDQRRPSLPALHFIKGAGK...  10000.0  \n",
       "2      MVLGTVLLPPNSYGRDQDTSLCCLCTEASESALPDLTDHFASCVED...  10000.0  \n",
       "3      MVDGVMILPVLIMIALPSPSMEDEKPKVNPKLYMCVCEGLSCGNED...  10000.0  \n",
       "4      MAESAGASSFFPLVVLLLAGSGGSGPRGVQALLCACTSCLQANYTC...  10000.0  \n",
       "...                                                  ...      ...  \n",
       "25767  MGCIKSKENKSPAIKYRPENTPEPVSTSVSHYGAEPTTVSPCPSSS...  10000.0  \n",
       "25768  MAHLRGFANQHSRVDPEELFTKLDRIGKGSFGEVYKGIDNHTKEVV...  10000.0  \n",
       "25769  MSSMPKPERHAESLLDICHDTNSSPTDLMTVTKNQNIILQSISRSE...   1900.0  \n",
       "25770  MSSLGASFVQIKFDDLQFFENCGGGSFGSVYRAKWISQDKEVAVKK...   4400.0  \n",
       "25771  MPDPAAHLPFFYGSISRAEAEEHLKLAGMADGLFLLRQCLRSLGGY...  10000.0  \n",
       "\n",
       "[25772 rows x 5 columns]"
      ]
     },
     "execution_count": 88,
     "metadata": {},
     "output_type": "execute_result"
    }
   ],
   "source": [
    "df"
   ]
  },
  {
   "cell_type": "code",
   "execution_count": 89,
   "metadata": {},
   "outputs": [
    {
     "name": "stdout",
     "output_type": "stream",
     "text": [
      "Original size: 25772\n",
      "Final size:     25772\n",
      "Difference:   0\n"
     ]
    }
   ],
   "source": [
    "print(\"Original size:\", ori_size)\n",
    "print(\"Final size:    \", df.shape[0])\n",
    "print(\"Difference:  \", df.shape[0] - ori_size)"
   ]
  }
 ],
 "metadata": {
  "kernelspec": {
   "display_name": "project_ifa",
   "language": "python",
   "name": "python3"
  },
  "language_info": {
   "codemirror_mode": {
    "name": "ipython",
    "version": 3
   },
   "file_extension": ".py",
   "mimetype": "text/x-python",
   "name": "python",
   "nbconvert_exporter": "python",
   "pygments_lexer": "ipython3",
   "version": "3.11.9"
  }
 },
 "nbformat": 4,
 "nbformat_minor": 2
}
