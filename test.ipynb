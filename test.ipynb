{
 "cells": [
  {
   "cell_type": "code",
   "execution_count": 1,
   "metadata": {},
   "outputs": [
    {
     "ename": "ImportError",
     "evalue": "cannot import name 'onehot' from 'src.data.processing' (c:\\Users\\raulc\\code\\projeto_ifá\\src\\data\\processing.py)",
     "output_type": "error",
     "traceback": [
      "\u001b[1;31m---------------------------------------------------------------------------\u001b[0m",
      "\u001b[1;31mImportError\u001b[0m                               Traceback (most recent call last)",
      "Cell \u001b[1;32mIn[1], line 3\u001b[0m\n\u001b[0;32m      1\u001b[0m \u001b[38;5;28;01mimport\u001b[39;00m \u001b[38;5;21;01mpandas\u001b[39;00m \u001b[38;5;28;01mas\u001b[39;00m \u001b[38;5;21;01mpd\u001b[39;00m\n\u001b[0;32m      2\u001b[0m \u001b[38;5;28;01mfrom\u001b[39;00m \u001b[38;5;21;01msrc\u001b[39;00m\u001b[38;5;21;01m.\u001b[39;00m\u001b[38;5;21;01mdata\u001b[39;00m\u001b[38;5;21;01m.\u001b[39;00m\u001b[38;5;21;01mloading\u001b[39;00m \u001b[38;5;28;01mimport\u001b[39;00m TDCDataset, WideDTADataHandler\n\u001b[1;32m----> 3\u001b[0m \u001b[38;5;28;01mfrom\u001b[39;00m \u001b[38;5;21;01msrc\u001b[39;00m\u001b[38;5;21;01m.\u001b[39;00m\u001b[38;5;21;01mdata\u001b[39;00m\u001b[38;5;21;01m.\u001b[39;00m\u001b[38;5;21;01mprocessing\u001b[39;00m \u001b[38;5;28;01mimport\u001b[39;00m seq_to_words, to_deepsmiles, one_hot_encode, make_words_set, onehot_words, onehot\n\u001b[0;32m      4\u001b[0m \u001b[38;5;28;01mfrom\u001b[39;00m \u001b[38;5;21;01msrc\u001b[39;00m\u001b[38;5;21;01m.\u001b[39;00m\u001b[38;5;21;01mdata\u001b[39;00m\u001b[38;5;21;01m.\u001b[39;00m\u001b[38;5;21;01mpreprocessing\u001b[39;00m \u001b[38;5;28;01mimport\u001b[39;00m MotifFetcher\n",
      "\u001b[1;31mImportError\u001b[0m: cannot import name 'onehot' from 'src.data.processing' (c:\\Users\\raulc\\code\\projeto_ifá\\src\\data\\processing.py)"
     ]
    }
   ],
   "source": [
    "import pandas as pd\n",
    "from src.data.loading import TDCDataset, WideDTADataHandler\n",
    "from src.data.processing import seq_to_words, to_deepsmiles, one_hot_encode, make_words_set, onehot_words, onehot\n",
    "from src.data.preprocessing import MotifFetcher\n"
   ]
  },
  {
   "cell_type": "code",
   "execution_count": null,
   "metadata": {},
   "outputs": [
    {
     "name": "stderr",
     "output_type": "stream",
     "text": [
      "Found local copy...\n",
      "Loading...\n",
      "Done!\n"
     ]
    },
    {
     "data": {
      "text/html": [
       "<div>\n",
       "<style scoped>\n",
       "    .dataframe tbody tr th:only-of-type {\n",
       "        vertical-align: middle;\n",
       "    }\n",
       "\n",
       "    .dataframe tbody tr th {\n",
       "        vertical-align: top;\n",
       "    }\n",
       "\n",
       "    .dataframe thead th {\n",
       "        text-align: right;\n",
       "    }\n",
       "</style>\n",
       "<table border=\"1\" class=\"dataframe\">\n",
       "  <thead>\n",
       "    <tr style=\"text-align: right;\">\n",
       "      <th></th>\n",
       "      <th>Drug_ID</th>\n",
       "      <th>Drug</th>\n",
       "      <th>Target_ID</th>\n",
       "      <th>Target</th>\n",
       "      <th>Y</th>\n",
       "    </tr>\n",
       "  </thead>\n",
       "  <tbody>\n",
       "    <tr>\n",
       "      <th>0</th>\n",
       "      <td>11314340</td>\n",
       "      <td>Cc1[nH]nc2ccc(-c3cncc(OCC(N)Cc4ccccc4)c3)cc12</td>\n",
       "      <td>AAK1</td>\n",
       "      <td>MKKFFDSRREQGGSGLGSGSSGGGGSTSGLGSGYIGRVFGIGRQQV...</td>\n",
       "      <td>43.0</td>\n",
       "    </tr>\n",
       "    <tr>\n",
       "      <th>1</th>\n",
       "      <td>11314340</td>\n",
       "      <td>Cc1[nH]nc2ccc(-c3cncc(OCC(N)Cc4ccccc4)c3)cc12</td>\n",
       "      <td>ABL1p</td>\n",
       "      <td>PFWKILNPLLERGTYYYFMGQQPGKVLGDQRRPSLPALHFIKGAGK...</td>\n",
       "      <td>10000.0</td>\n",
       "    </tr>\n",
       "    <tr>\n",
       "      <th>2</th>\n",
       "      <td>11314340</td>\n",
       "      <td>Cc1[nH]nc2ccc(-c3cncc(OCC(N)Cc4ccccc4)c3)cc12</td>\n",
       "      <td>ABL2</td>\n",
       "      <td>MVLGTVLLPPNSYGRDQDTSLCCLCTEASESALPDLTDHFASCVED...</td>\n",
       "      <td>10000.0</td>\n",
       "    </tr>\n",
       "    <tr>\n",
       "      <th>3</th>\n",
       "      <td>11314340</td>\n",
       "      <td>Cc1[nH]nc2ccc(-c3cncc(OCC(N)Cc4ccccc4)c3)cc12</td>\n",
       "      <td>ACVR1</td>\n",
       "      <td>MVDGVMILPVLIMIALPSPSMEDEKPKVNPKLYMCVCEGLSCGNED...</td>\n",
       "      <td>10000.0</td>\n",
       "    </tr>\n",
       "    <tr>\n",
       "      <th>4</th>\n",
       "      <td>11314340</td>\n",
       "      <td>Cc1[nH]nc2ccc(-c3cncc(OCC(N)Cc4ccccc4)c3)cc12</td>\n",
       "      <td>ACVR2A</td>\n",
       "      <td>MGAAAKLAFAVFLISCSSGAILGRSETQECLFFNANWEKDRTNQTG...</td>\n",
       "      <td>10000.0</td>\n",
       "    </tr>\n",
       "    <tr>\n",
       "      <th>...</th>\n",
       "      <td>...</td>\n",
       "      <td>...</td>\n",
       "      <td>...</td>\n",
       "      <td>...</td>\n",
       "      <td>...</td>\n",
       "    </tr>\n",
       "    <tr>\n",
       "      <th>18036</th>\n",
       "      <td>151194</td>\n",
       "      <td>Clc1ccc(Nc2nnc(Cc3ccncc3)c3ccccc23)cc1</td>\n",
       "      <td>YES</td>\n",
       "      <td>MGCIKSKENKSPAIKYRPENTPEPVSTSVSHYGAEPTTVSPCPSSS...</td>\n",
       "      <td>10000.0</td>\n",
       "    </tr>\n",
       "    <tr>\n",
       "      <th>18037</th>\n",
       "      <td>151194</td>\n",
       "      <td>Clc1ccc(Nc2nnc(Cc3ccncc3)c3ccccc23)cc1</td>\n",
       "      <td>YSK1</td>\n",
       "      <td>MAHLRGFANQHSRVDPEELFTKLDRIGKGSFGEVYKGIDNHTKEVV...</td>\n",
       "      <td>10000.0</td>\n",
       "    </tr>\n",
       "    <tr>\n",
       "      <th>18038</th>\n",
       "      <td>151194</td>\n",
       "      <td>Clc1ccc(Nc2nnc(Cc3ccncc3)c3ccccc23)cc1</td>\n",
       "      <td>YSK4</td>\n",
       "      <td>MSSMPKPERHAESLLDICHDTNSSPTDLMTVTKNQNIILQSISRSE...</td>\n",
       "      <td>1900.0</td>\n",
       "    </tr>\n",
       "    <tr>\n",
       "      <th>18039</th>\n",
       "      <td>151194</td>\n",
       "      <td>Clc1ccc(Nc2nnc(Cc3ccncc3)c3ccccc23)cc1</td>\n",
       "      <td>ZAK</td>\n",
       "      <td>MSSLGASFVQIKFDDLQFFENCGGGSFGSVYRAKWISQDKEVAVKK...</td>\n",
       "      <td>4400.0</td>\n",
       "    </tr>\n",
       "    <tr>\n",
       "      <th>18040</th>\n",
       "      <td>151194</td>\n",
       "      <td>Clc1ccc(Nc2nnc(Cc3ccncc3)c3ccccc23)cc1</td>\n",
       "      <td>ZAP70</td>\n",
       "      <td>MPDPAAHLPFFYGSISRAEAEEHLKLAGMADGLFLLRQCLRSLGGY...</td>\n",
       "      <td>10000.0</td>\n",
       "    </tr>\n",
       "  </tbody>\n",
       "</table>\n",
       "<p>18041 rows × 5 columns</p>\n",
       "</div>"
      ],
      "text/plain": [
       "        Drug_ID                                           Drug Target_ID  \\\n",
       "0      11314340  Cc1[nH]nc2ccc(-c3cncc(OCC(N)Cc4ccccc4)c3)cc12      AAK1   \n",
       "1      11314340  Cc1[nH]nc2ccc(-c3cncc(OCC(N)Cc4ccccc4)c3)cc12     ABL1p   \n",
       "2      11314340  Cc1[nH]nc2ccc(-c3cncc(OCC(N)Cc4ccccc4)c3)cc12      ABL2   \n",
       "3      11314340  Cc1[nH]nc2ccc(-c3cncc(OCC(N)Cc4ccccc4)c3)cc12     ACVR1   \n",
       "4      11314340  Cc1[nH]nc2ccc(-c3cncc(OCC(N)Cc4ccccc4)c3)cc12    ACVR2A   \n",
       "...         ...                                            ...       ...   \n",
       "18036    151194         Clc1ccc(Nc2nnc(Cc3ccncc3)c3ccccc23)cc1       YES   \n",
       "18037    151194         Clc1ccc(Nc2nnc(Cc3ccncc3)c3ccccc23)cc1      YSK1   \n",
       "18038    151194         Clc1ccc(Nc2nnc(Cc3ccncc3)c3ccccc23)cc1      YSK4   \n",
       "18039    151194         Clc1ccc(Nc2nnc(Cc3ccncc3)c3ccccc23)cc1       ZAK   \n",
       "18040    151194         Clc1ccc(Nc2nnc(Cc3ccncc3)c3ccccc23)cc1     ZAP70   \n",
       "\n",
       "                                                  Target        Y  \n",
       "0      MKKFFDSRREQGGSGLGSGSSGGGGSTSGLGSGYIGRVFGIGRQQV...     43.0  \n",
       "1      PFWKILNPLLERGTYYYFMGQQPGKVLGDQRRPSLPALHFIKGAGK...  10000.0  \n",
       "2      MVLGTVLLPPNSYGRDQDTSLCCLCTEASESALPDLTDHFASCVED...  10000.0  \n",
       "3      MVDGVMILPVLIMIALPSPSMEDEKPKVNPKLYMCVCEGLSCGNED...  10000.0  \n",
       "4      MGAAAKLAFAVFLISCSSGAILGRSETQECLFFNANWEKDRTNQTG...  10000.0  \n",
       "...                                                  ...      ...  \n",
       "18036  MGCIKSKENKSPAIKYRPENTPEPVSTSVSHYGAEPTTVSPCPSSS...  10000.0  \n",
       "18037  MAHLRGFANQHSRVDPEELFTKLDRIGKGSFGEVYKGIDNHTKEVV...  10000.0  \n",
       "18038  MSSMPKPERHAESLLDICHDTNSSPTDLMTVTKNQNIILQSISRSE...   1900.0  \n",
       "18039  MSSLGASFVQIKFDDLQFFENCGGGSFGSVYRAKWISQDKEVAVKK...   4400.0  \n",
       "18040  MPDPAAHLPFFYGSISRAEAEEHLKLAGMADGLFLLRQCLRSLGGY...  10000.0  \n",
       "\n",
       "[18041 rows x 5 columns]"
      ]
     },
     "execution_count": 2,
     "metadata": {},
     "output_type": "execute_result"
    }
   ],
   "source": [
    "data = TDCDataset(\"DAVIS\", mode=\"widedta\", label_to_log=False)\n",
    "\n",
    "data.data"
   ]
  },
  {
   "cell_type": "code",
   "execution_count": 2,
   "metadata": {},
   "outputs": [
    {
     "name": "stderr",
     "output_type": "stream",
     "text": [
      "Found local copy...\n",
      "Loading...\n",
      "Done!\n",
      "To log space...\n"
     ]
    },
    {
     "name": "stdout",
     "output_type": "stream",
     "text": [
      "Motif file loaded successfully.\n",
      "Motif file up to date.\n"
     ]
    }
   ],
   "source": [
    "dh = WideDTADataHandler(\"Davis\")"
   ]
  },
  {
   "cell_type": "code",
   "execution_count": 3,
   "metadata": {},
   "outputs": [
    {
     "data": {
      "text/html": [
       "<div>\n",
       "<style scoped>\n",
       "    .dataframe tbody tr th:only-of-type {\n",
       "        vertical-align: middle;\n",
       "    }\n",
       "\n",
       "    .dataframe tbody tr th {\n",
       "        vertical-align: top;\n",
       "    }\n",
       "\n",
       "    .dataframe thead th {\n",
       "        text-align: right;\n",
       "    }\n",
       "</style>\n",
       "<table border=\"1\" class=\"dataframe\">\n",
       "  <thead>\n",
       "    <tr style=\"text-align: right;\">\n",
       "      <th></th>\n",
       "      <th>Drug_ID</th>\n",
       "      <th>Drug</th>\n",
       "      <th>Target_ID</th>\n",
       "      <th>Target</th>\n",
       "      <th>Y</th>\n",
       "      <th>Motif</th>\n",
       "    </tr>\n",
       "  </thead>\n",
       "  <tbody>\n",
       "    <tr>\n",
       "      <th>0</th>\n",
       "      <td>11314340</td>\n",
       "      <td>(Cc[nH]nc, ccc-ccnc, cOCCN)Cc, ccccc6)), )))))...</td>\n",
       "      <td>AAK1</td>\n",
       "      <td>(MKK, FFD, SRR, EQG, GSG, LGS, GSS, GGG, GST, ...</td>\n",
       "      <td>3.761200</td>\n",
       "      <td>(IIH, RDL, KVE, NIL, IHR, DLK, VEN, ILL, HRD, ...</td>\n",
       "    </tr>\n",
       "    <tr>\n",
       "      <th>1</th>\n",
       "      <td>11314340</td>\n",
       "      <td>(Cc[nH]nc, ccc-ccnc, cOCCN)Cc, ccccc6)), )))))...</td>\n",
       "      <td>ABL1p</td>\n",
       "      <td>(PFW, KIL, NPL, LER, GTY, YYF, MGQ, QPG, KVL, ...</td>\n",
       "      <td>9.210340</td>\n",
       "      <td>(FIH, RDL, AAR, NCL, IHR, DLA, ARN, CLV, HRD, ...</td>\n",
       "    </tr>\n",
       "    <tr>\n",
       "      <th>2</th>\n",
       "      <td>11314340</td>\n",
       "      <td>(Cc[nH]nc, ccc-ccnc, cOCCN)Cc, ccccc6)), )))))...</td>\n",
       "      <td>ABL2</td>\n",
       "      <td>(MVL, GTV, LLP, PNS, YGR, DQD, TSL, CCL, CTE, ...</td>\n",
       "      <td>9.210340</td>\n",
       "      <td>(FIH, RDL, AAR, NCL, IHR, DLA, ARN, CLV, HRD, ...</td>\n",
       "    </tr>\n",
       "    <tr>\n",
       "      <th>3</th>\n",
       "      <td>11314340</td>\n",
       "      <td>(Cc[nH]nc, ccc-ccnc, cOCCN)Cc, ccccc6)), )))))...</td>\n",
       "      <td>ACVR1</td>\n",
       "      <td>(MVD, GVM, ILP, VLI, MIA, LPS, PSM, EDE, KPK, ...</td>\n",
       "      <td>9.210340</td>\n",
       "      <td>(IAH, RDL, KSK, NIL, AHR, DLK, SKN, ILV, HRD, ...</td>\n",
       "    </tr>\n",
       "    <tr>\n",
       "      <th>4</th>\n",
       "      <td>11314340</td>\n",
       "      <td>(Cc[nH]nc, ccc-ccnc, cOCCN)Cc, ccccc6)), )))))...</td>\n",
       "      <td>ACVR2A</td>\n",
       "      <td>(MGA, AAK, LAF, AVF, LIS, CSS, GAI, LGR, SET, ...</td>\n",
       "      <td>9.210340</td>\n",
       "      <td>(ISH, RDI, KSK, NVL, SHR, DIK, SKN, VLL, HRD, ...</td>\n",
       "    </tr>\n",
       "    <tr>\n",
       "      <th>...</th>\n",
       "      <td>...</td>\n",
       "      <td>...</td>\n",
       "      <td>...</td>\n",
       "      <td>...</td>\n",
       "      <td>...</td>\n",
       "      <td>...</td>\n",
       "    </tr>\n",
       "    <tr>\n",
       "      <th>374</th>\n",
       "      <td>11338033</td>\n",
       "      <td>(O=CNCCCN, CC6))))), ))c[nH]n, cc5NC=O), ccCl)...</td>\n",
       "      <td>PKAC-beta</td>\n",
       "      <td>(MGN, AAT, AKK, GSE, VES, VKE, FLA, KAK, EDF, ...</td>\n",
       "      <td>9.210340</td>\n",
       "      <td>(LIY, RDL, KPE, NLL, IYR, DLK, PEN, LLI, YRD, ...</td>\n",
       "    </tr>\n",
       "    <tr>\n",
       "      <th>375</th>\n",
       "      <td>11338033</td>\n",
       "      <td>(O=CNCCCN, CC6))))), ))c[nH]n, cc5NC=O), ccCl)...</td>\n",
       "      <td>TAOK3</td>\n",
       "      <td>(MRK, GVL, KDP, EIA, DLF, YKD, DPE, ELF, IGL, ...</td>\n",
       "      <td>4.043051</td>\n",
       "      <td>(LIH, RDI, KAG, NIL, IHR, DIK, AGN, ILL, HRD, ...</td>\n",
       "    </tr>\n",
       "    <tr>\n",
       "      <th>376</th>\n",
       "      <td>11338033</td>\n",
       "      <td>(O=CNCCCN, CC6))))), ))c[nH]n, cc5NC=O), ccCl)...</td>\n",
       "      <td>TYRO3</td>\n",
       "      <td>(MAL, RRS, MGR, PGL, PPL, PLP, PPP, RLG, LLL, ...</td>\n",
       "      <td>9.210340</td>\n",
       "      <td>(LGK, GEF, GSV, REA, QLK, QED, GSF, VKV, AVK, ...</td>\n",
       "    </tr>\n",
       "    <tr>\n",
       "      <th>377</th>\n",
       "      <td>5287969</td>\n",
       "      <td>(CNCCCccO, )ccO)cc=, O)cc-ccc, ccc6Cl)), )))))...</td>\n",
       "      <td>MET(Y1235D)</td>\n",
       "      <td>(MKA, PAV, LAP, GIL, VLL, FTL, VQR, SNG, ECK, ...</td>\n",
       "      <td>9.210340</td>\n",
       "      <td>(FVH, RDL, AAR, NCM, VHR, DLA, ARN, CML, HRD, ...</td>\n",
       "    </tr>\n",
       "    <tr>\n",
       "      <th>378</th>\n",
       "      <td>5287969</td>\n",
       "      <td>(CNCCCccO, )ccO)cc=, O)cc-ccc, ccc6Cl)), )))))...</td>\n",
       "      <td>YANK3</td>\n",
       "      <td>(MRS, GAE, RRG, SSA, AAS, PGS, PPP, GRA, RPA, ...</td>\n",
       "      <td>9.210340</td>\n",
       "      <td>(IIH, RDV, KPD, NIL, IHR, DVK, PDN, ILL, HRD, ...</td>\n",
       "    </tr>\n",
       "  </tbody>\n",
       "</table>\n",
       "<p>363 rows × 6 columns</p>\n",
       "</div>"
      ],
      "text/plain": [
       "      Drug_ID                                               Drug    Target_ID  \\\n",
       "0    11314340  (Cc[nH]nc, ccc-ccnc, cOCCN)Cc, ccccc6)), )))))...         AAK1   \n",
       "1    11314340  (Cc[nH]nc, ccc-ccnc, cOCCN)Cc, ccccc6)), )))))...        ABL1p   \n",
       "2    11314340  (Cc[nH]nc, ccc-ccnc, cOCCN)Cc, ccccc6)), )))))...         ABL2   \n",
       "3    11314340  (Cc[nH]nc, ccc-ccnc, cOCCN)Cc, ccccc6)), )))))...        ACVR1   \n",
       "4    11314340  (Cc[nH]nc, ccc-ccnc, cOCCN)Cc, ccccc6)), )))))...       ACVR2A   \n",
       "..        ...                                                ...          ...   \n",
       "374  11338033  (O=CNCCCN, CC6))))), ))c[nH]n, cc5NC=O), ccCl)...    PKAC-beta   \n",
       "375  11338033  (O=CNCCCN, CC6))))), ))c[nH]n, cc5NC=O), ccCl)...        TAOK3   \n",
       "376  11338033  (O=CNCCCN, CC6))))), ))c[nH]n, cc5NC=O), ccCl)...        TYRO3   \n",
       "377   5287969  (CNCCCccO, )ccO)cc=, O)cc-ccc, ccc6Cl)), )))))...  MET(Y1235D)   \n",
       "378   5287969  (CNCCCccO, )ccO)cc=, O)cc-ccc, ccc6Cl)), )))))...        YANK3   \n",
       "\n",
       "                                                Target         Y  \\\n",
       "0    (MKK, FFD, SRR, EQG, GSG, LGS, GSS, GGG, GST, ...  3.761200   \n",
       "1    (PFW, KIL, NPL, LER, GTY, YYF, MGQ, QPG, KVL, ...  9.210340   \n",
       "2    (MVL, GTV, LLP, PNS, YGR, DQD, TSL, CCL, CTE, ...  9.210340   \n",
       "3    (MVD, GVM, ILP, VLI, MIA, LPS, PSM, EDE, KPK, ...  9.210340   \n",
       "4    (MGA, AAK, LAF, AVF, LIS, CSS, GAI, LGR, SET, ...  9.210340   \n",
       "..                                                 ...       ...   \n",
       "374  (MGN, AAT, AKK, GSE, VES, VKE, FLA, KAK, EDF, ...  9.210340   \n",
       "375  (MRK, GVL, KDP, EIA, DLF, YKD, DPE, ELF, IGL, ...  4.043051   \n",
       "376  (MAL, RRS, MGR, PGL, PPL, PLP, PPP, RLG, LLL, ...  9.210340   \n",
       "377  (MKA, PAV, LAP, GIL, VLL, FTL, VQR, SNG, ECK, ...  9.210340   \n",
       "378  (MRS, GAE, RRG, SSA, AAS, PGS, PPP, GRA, RPA, ...  9.210340   \n",
       "\n",
       "                                                 Motif  \n",
       "0    (IIH, RDL, KVE, NIL, IHR, DLK, VEN, ILL, HRD, ...  \n",
       "1    (FIH, RDL, AAR, NCL, IHR, DLA, ARN, CLV, HRD, ...  \n",
       "2    (FIH, RDL, AAR, NCL, IHR, DLA, ARN, CLV, HRD, ...  \n",
       "3    (IAH, RDL, KSK, NIL, AHR, DLK, SKN, ILV, HRD, ...  \n",
       "4    (ISH, RDI, KSK, NVL, SHR, DIK, SKN, VLL, HRD, ...  \n",
       "..                                                 ...  \n",
       "374  (LIY, RDL, KPE, NLL, IYR, DLK, PEN, LLI, YRD, ...  \n",
       "375  (LIH, RDI, KAG, NIL, IHR, DIK, AGN, ILL, HRD, ...  \n",
       "376  (LGK, GEF, GSV, REA, QLK, QED, GSF, VKV, AVK, ...  \n",
       "377  (FVH, RDL, AAR, NCM, VHR, DLA, ARN, CML, HRD, ...  \n",
       "378  (IIH, RDV, KPD, NIL, IHR, DVK, PDN, ILL, HRD, ...  \n",
       "\n",
       "[363 rows x 6 columns]"
      ]
     },
     "execution_count": 3,
     "metadata": {},
     "output_type": "execute_result"
    }
   ],
   "source": [
    "dh.data"
   ]
  },
  {
   "cell_type": "code",
   "execution_count": 4,
   "metadata": {},
   "outputs": [],
   "source": [
    "import numpy as np\n",
    "\n",
    "def onehot_words_flat(x, allowable_set):\n",
    "    word_to_int = {word: i for i, word in enumerate(allowable_set)}\n",
    "    \n",
    "    indices_sequence = [word_to_int[word] if word in word_to_int else 0 for word in x]\n",
    "    \n",
    "    return np.array(indices_sequence)"
   ]
  },
  {
   "cell_type": "code",
   "execution_count": 8,
   "metadata": {},
   "outputs": [
    {
     "data": {
      "text/plain": [
       "array([171, 135, 184, 204, 124,  29,  64,  46, 159,  82, 117, 213,  50,\n",
       "        42,  12,  46,  76,  46,  63,  77, 118, 150,  21,  69, 160,  46,\n",
       "       192,  46,  41,  47, 212, 148, 107,  93,  18,  59,  18,  23, 194,\n",
       "       130,  14,  58, 165, 129,  39, 129,  29,  99,  33, 115, 214, 175,\n",
       "       178, 138, 166,  46,   6, 146, 200, 133,  62,  32, 167, 205,  46,\n",
       "       119,  68,  25, 196, 109, 113,  46, 176,  19])"
      ]
     },
     "execution_count": 8,
     "metadata": {},
     "output_type": "execute_result"
    }
   ],
   "source": [
    "onehot_words_flat(dh.data[\"Drug\"][300], allowable_set=dh.words_sets[\"Drug\"])"
   ]
  },
  {
   "cell_type": "code",
   "execution_count": 34,
   "metadata": {},
   "outputs": [
    {
     "data": {
      "text/plain": [
       "'Cc[nH]nc'"
      ]
     },
     "execution_count": 34,
     "metadata": {},
     "output_type": "execute_result"
    }
   ],
   "source": [
    "dh.data[\"Drug\"][0][0]"
   ]
  },
  {
   "cell_type": "markdown",
   "metadata": {},
   "source": [
    "45 words of 8 chars"
   ]
  },
  {
   "cell_type": "code",
   "execution_count": 26,
   "metadata": {},
   "outputs": [
    {
     "data": {
      "text/plain": [
       "360"
      ]
     },
     "execution_count": 26,
     "metadata": {},
     "output_type": "execute_result"
    }
   ],
   "source": [
    "45 * 8"
   ]
  },
  {
   "cell_type": "code",
   "execution_count": 42,
   "metadata": {},
   "outputs": [
    {
     "data": {
      "text/plain": [
       "74"
      ]
     },
     "execution_count": 42,
     "metadata": {},
     "output_type": "execute_result"
    }
   ],
   "source": [
    "df = dh.data\n",
    "dh.data[\"Drug\"].str.len().max()\n"
   ]
  },
  {
   "cell_type": "code",
   "execution_count": 43,
   "metadata": {},
   "outputs": [
    {
     "data": {
      "text/plain": [
       "74"
      ]
     },
     "execution_count": 43,
     "metadata": {},
     "output_type": "execute_result"
    }
   ],
   "source": [
    "max_length_index = df['Drug'].str.len().idxmax()\n",
    "len(df.loc[max_length_index][\"Drug\"])"
   ]
  }
 ],
 "metadata": {
  "kernelspec": {
   "display_name": "project_ifa",
   "language": "python",
   "name": "python3"
  },
  "language_info": {
   "codemirror_mode": {
    "name": "ipython",
    "version": 3
   },
   "file_extension": ".py",
   "mimetype": "text/x-python",
   "name": "python",
   "nbconvert_exporter": "python",
   "pygments_lexer": "ipython3",
   "version": "3.11.9"
  }
 },
 "nbformat": 4,
 "nbformat_minor": 2
}
