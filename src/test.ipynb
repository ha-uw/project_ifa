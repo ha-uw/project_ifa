{
 "cells": [
  {
   "cell_type": "code",
   "execution_count": 1,
   "metadata": {},
   "outputs": [],
   "source": [
    "from methods.widedta import _WideDTADataHandler\n",
    "from modules.encoders import WideCNN\n"
   ]
  },
  {
   "cell_type": "code",
   "execution_count": 2,
   "metadata": {},
   "outputs": [
    {
     "name": "stderr",
     "output_type": "stream",
     "text": [
      "Found local copy...\n",
      "Loading...\n",
      "Done!\n",
      "To log space...\n"
     ]
    },
    {
     "name": "stdout",
     "output_type": "stream",
     "text": [
      "Motif file loaded successfully.\n",
      "Motif file up to date.\n"
     ]
    }
   ],
   "source": [
    "df = _WideDTADataHandler(\"Davis\", path=\"..\\data\")"
   ]
  },
  {
   "cell_type": "code",
   "execution_count": 3,
   "metadata": {},
   "outputs": [
    {
     "data": {
      "text/plain": [
       "0        (MKK, FFD, SRR, EQG, GSG, LGS, GSS, GGG, GST, ...\n",
       "1        (PFW, KIL, NPL, LER, GTY, YYF, MGQ, QPG, KVL, ...\n",
       "2        (MVL, GTV, LLP, PNS, YGR, DQD, TSL, CCL, CTE, ...\n",
       "3        (MVD, GVM, ILP, VLI, MIA, LPS, PSM, EDE, KPK, ...\n",
       "4        (MGA, AAK, LAF, AVF, LIS, CSS, GAI, LGR, SET, ...\n",
       "                               ...                        \n",
       "17286    (MGC, IKS, KEN, KSP, AIK, YRP, ENT, PEP, VST, ...\n",
       "17287    (MAH, LRG, FAN, QHS, RVD, PEE, LFT, KLD, RIG, ...\n",
       "17288    (MSS, MPK, PER, HAE, SLL, DIC, HDT, NSS, PTD, ...\n",
       "17289    (MSS, LGA, SFV, QIK, FDD, LQF, FEN, CGG, GSF, ...\n",
       "17290    (MPD, PAA, HLP, FFY, GSI, SRA, EAE, EHL, KLA, ...\n",
       "Name: Target, Length: 17291, dtype: object"
      ]
     },
     "execution_count": 3,
     "metadata": {},
     "output_type": "execute_result"
    }
   ],
   "source": [
    "df.data[\"Target\"]"
   ]
  },
  {
   "cell_type": "code",
   "execution_count": 7,
   "metadata": {},
   "outputs": [
    {
     "data": {
      "text/plain": [
       "103"
      ]
     },
     "execution_count": 7,
     "metadata": {},
     "output_type": "execute_result"
    }
   ],
   "source": [
    "df.data[\"Motif\"].str.len().max()"
   ]
  },
  {
   "cell_type": "code",
   "execution_count": 10,
   "metadata": {},
   "outputs": [
    {
     "data": {
      "text/plain": [
       "2344"
      ]
     },
     "execution_count": 10,
     "metadata": {},
     "output_type": "execute_result"
    }
   ],
   "source": [
    "len(df.words_sets[\"Motif\"])"
   ]
  },
  {
   "cell_type": "code",
   "execution_count": null,
   "metadata": {},
   "outputs": [],
   "source": []
  }
 ],
 "metadata": {
  "kernelspec": {
   "display_name": "project_ifa",
   "language": "python",
   "name": "python3"
  },
  "language_info": {
   "codemirror_mode": {
    "name": "ipython",
    "version": 3
   },
   "file_extension": ".py",
   "mimetype": "text/x-python",
   "name": "python",
   "nbconvert_exporter": "python",
   "pygments_lexer": "ipython3",
   "version": "3.11.9"
  }
 },
 "nbformat": 4,
 "nbformat_minor": 2
}
